{
  "nbformat": 4,
  "nbformat_minor": 0,
  "metadata": {
    "colab": {
      "provenance": [],
      "authorship_tag": "ABX9TyPdK+PdbdOX0NNyqW6URuL6",
      "include_colab_link": true
    },
    "kernelspec": {
      "name": "python3",
      "display_name": "Python 3"
    },
    "language_info": {
      "name": "python"
    }
  },
  "cells": [
    {
      "cell_type": "markdown",
      "metadata": {
        "id": "view-in-github",
        "colab_type": "text"
      },
      "source": [
        "<a href=\"https://colab.research.google.com/github/Nael1906/DAA3/blob/main/DAA%20Pertemuan%203.ipynb\" target=\"_parent\"><img src=\"https://colab.research.google.com/assets/colab-badge.svg\" alt=\"Open In Colab\"/></a>"
      ]
    },
    {
      "cell_type": "code",
      "execution_count": 52,
      "metadata": {
        "colab": {
          "base_uri": "https://localhost:8080/"
        },
        "id": "sFh43A1pJB_x",
        "outputId": "0148ddfa-e2ce-4a84-c6f1-53b3991f2d67"
      },
      "outputs": [
        {
          "output_type": "stream",
          "name": "stdout",
          "text": [
            "['Najib', 2022071010, 'Tangerang Selatan', '2023-09-13', 'Desain Analisis Algoritma', 'Universitas Pembangunan Jaya']\n",
            "2023-09-13\n"
          ]
        }
      ],
      "source": [
        "#Menampilkan data didalam List\n",
        "\n",
        "import numpy as np\n",
        "import datetime\n",
        "\n",
        "\n",
        "date = datetime.date.today()\n",
        "\n",
        "aList1= [\"Najib\",\n",
        "         2022071069,\n",
        "         \"Informatika\",\n",
        "         \"Desain Analisis Algoritma\",\n",
        "         str(date),\n",
        "         \"Universitas Pembangunan Jaya\" ]\n",
        "\n",
        "aList2 = [\"Tamboto\",\n",
        "          2022071008,\n",
        "          \"Informatika\",\n",
        "          \"Desain Analisis Algoritma\",\n",
        "          str(date),\n",
        "          \"Universitas Pembangunan Jaya\"]\n",
        "\n",
        "aList3 = [\"Daffa\",\n",
        "          2022071006,\n",
        "          \"Informatika\",\n",
        "          \"Desain Analisis Algoritma\",\n",
        "          str(date),\n",
        "          \"Universitas Pembangunan Jaya\"]\n",
        "\n",
        "print(aList1)\n",
        "print(date)"
      ]
    },
    {
      "cell_type": "code",
      "source": [
        "#Menampilkan Nim mahasiswa\n",
        "\n",
        "import numpy as np\n",
        "import datetime\n",
        "\n",
        "\n",
        "date = datetime.date.today()\n",
        "\n",
        "aList1= [\"Najib\",\n",
        "         2022071069,\n",
        "         \"Informatika\",\n",
        "         \"Desain Analisis Algoritma\",\n",
        "         str(date),\n",
        "         \"Universitas Pembangunan Jaya\" ]\n",
        "\n",
        "aList2 = [\"Tamboto\",\n",
        "          2022071008,\n",
        "          \"Informatika\",\n",
        "          \"Desain Analisis Algoritma\",\n",
        "          str(date),\n",
        "          \"Universitas Pembangunan Jaya\"]\n",
        "\n",
        "aList3 = [\"Daffa\",\n",
        "          2022071006,\n",
        "          \"Informatika\",\n",
        "          \"Desain Analisis Algoritma\",\n",
        "          str(date),\n",
        "          \"Universitas Pembangunan Jaya\"]\n",
        "\n",
        "print(\"NIM Najib adalah : \", aList1[1])\n",
        "print(date)"
      ],
      "metadata": {
        "colab": {
          "base_uri": "https://localhost:8080/"
        },
        "id": "uWILzoytaxWK",
        "outputId": "163178b2-6652-48f1-9012-30a403eb3d2a"
      },
      "execution_count": 75,
      "outputs": [
        {
          "output_type": "stream",
          "name": "stdout",
          "text": [
            "NIM Najib adalah :  2022071010\n",
            "2023-09-13\n"
          ]
        }
      ]
    },
    {
      "cell_type": "code",
      "source": [
        "#Menampilkan Universitas Mahasiswa\n",
        "\n",
        "import numpy as np\n",
        "import datetime\n",
        "\n",
        "\n",
        "date = datetime.date.today()\n",
        "\n",
        "aList1= [\"Najib\",\n",
        "         2022071069,\n",
        "         \"Informatika\",\n",
        "         \"Desain Analisis Algoritma\",\n",
        "         str(date),\n",
        "         \"Universitas Pembangunan Jaya\" ]\n",
        "\n",
        "aList2 = [\"Tamboto\",\n",
        "          2022071008,\n",
        "          \"Informatika\",\n",
        "          \"Desain Analisis Algoritma\",\n",
        "          str(date),\n",
        "          \"Universitas Pembangunan Jaya\"]\n",
        "\n",
        "aList3 = [\"Daffa\",\n",
        "          2022071006,\n",
        "          \"Informatika\",\n",
        "          \"Desain Analisis Algoritma\",\n",
        "          str(date),\n",
        "          \"Universitas Pembangunan Jaya\"]\n",
        "print(\"Najib Berkuliah di : \", aList1[5])\n",
        "print(date)"
      ],
      "metadata": {
        "colab": {
          "base_uri": "https://localhost:8080/"
        },
        "id": "N4bafZGva9dH",
        "outputId": "1aa23682-eb9e-4240-aa02-a7790bd7b875"
      },
      "execution_count": 76,
      "outputs": [
        {
          "output_type": "stream",
          "name": "stdout",
          "text": [
            "Najib Berkuliah di :  Universitas Pembangunan Jaya\n",
            "2023-09-13\n"
          ]
        }
      ]
    },
    {
      "cell_type": "code",
      "source": [
        "#Melakukan Slicing untuk menampilkan Prodi dan NIM mahasiswa\n",
        "\n",
        "import numpy as np\n",
        "import datetime\n",
        "\n",
        "\n",
        "date = datetime.date.today()\n",
        "\n",
        "aList1= [\"Najib\",\n",
        "         2022071069,\n",
        "         \"Informatika\",\n",
        "         \"Desain Analisis Algoritma\",\n",
        "         str(date),\n",
        "         \"Universitas Pembangunan Jaya\" ]\n",
        "\n",
        "aList2 = [\"Tamboto\",\n",
        "          2022071008,\n",
        "          \"Informatika\",\n",
        "          \"Desain Analisis Algoritma\",\n",
        "          str(date),\n",
        "          \"Universitas Pembangunan Jaya\"]\n",
        "\n",
        "aList3 = [\"Daffa\",\n",
        "          2022071006,\n",
        "          \"Informatika\",\n",
        "          \"Desain Analisis Algoritma\",\n",
        "          str(date),\n",
        "          \"Universitas Pembangunan Jaya\"]\n",
        "\n",
        "print(\"Ini adalah NIM dan Prodi Najib : \", aList1[1:3])\n",
        "print(date)"
      ],
      "metadata": {
        "colab": {
          "base_uri": "https://localhost:8080/"
        },
        "id": "ojco88g8cSnJ",
        "outputId": "492cab12-79d1-4ffc-d23a-db204b88bd22"
      },
      "execution_count": 82,
      "outputs": [
        {
          "output_type": "stream",
          "name": "stdout",
          "text": [
            "Ini adalah NIM dan Prodi Najib :  [2022071069, 'Informatika']\n",
            "2023-09-13\n"
          ]
        }
      ]
    },
    {
      "cell_type": "code",
      "source": [
        "#Melakukan Iterasi\n",
        "\n",
        "bin_Mahasiswa = [\"Najib\", \"Fahmi\", \"Daffa\", \"Ican\"]\n",
        "\n",
        "for aMahasiswa in bin_Mahasiswa:\n",
        "  print(\"UPJ \" + aMahasiswa)\n"
      ],
      "metadata": {
        "colab": {
          "base_uri": "https://localhost:8080/"
        },
        "id": "Ja9H7mc5XbAK",
        "outputId": "50be5c9a-1bd3-481f-bb0e-197f8039ea14"
      },
      "execution_count": 81,
      "outputs": [
        {
          "output_type": "stream",
          "name": "stdout",
          "text": [
            "UPJ Najib\n",
            "UPJ Fahmi\n",
            "UPJ Daffa\n",
            "UPJ Ican\n"
          ]
        }
      ]
    },
    {
      "cell_type": "code",
      "source": [
        "#Nested Tupel\n",
        "\n",
        "nilaiAwal = (100)\n",
        "nilaiKedua = (200,400,600)\n",
        "nilaiKetiga = (300)\n",
        "nilaiKeempat = (400,800)\n",
        "\n",
        "nilai = (nilaiKedua, nilaiKeempat)\n",
        "print(nilai)"
      ],
      "metadata": {
        "colab": {
          "base_uri": "https://localhost:8080/"
        },
        "id": "yX6qchPlZxnq",
        "outputId": "862d1bfd-6d0c-4b8e-c1c5-50a3ecaefda5"
      },
      "execution_count": 85,
      "outputs": [
        {
          "output_type": "stream",
          "name": "stdout",
          "text": [
            "((200, 400, 600), (400, 800))\n"
          ]
        }
      ]
    },
    {
      "cell_type": "code",
      "source": [
        "#DICTIONARY\n",
        "import numpy as np\n",
        "\n",
        "bin_mahasiswa = {\"NAMA\"  :\"Najib\",\n",
        "              \"NIM \" : \"2022071069\",\n",
        "              \"Prodi \" : \"Informatika\",\n",
        "              \"Mata Kuliah\" : \"Desain Analisis Algoritma\",\n",
        "              \"Universitas\" : \"Universitas Pembangunan Jaya\"}\n",
        "print(bin_mahasiswa)"
      ],
      "metadata": {
        "colab": {
          "base_uri": "https://localhost:8080/"
        },
        "id": "2rDNGJHmmsaL",
        "outputId": "e8091edb-3795-476a-eecf-b954fd1edc0a"
      },
      "execution_count": 99,
      "outputs": [
        {
          "output_type": "stream",
          "name": "stdout",
          "text": [
            "{'NAMA': 'Najib', 'NIM ': '2022071069', 'Prodi ': 'Informatika', 'Mata Kuliah': 'Desain Analisis Algoritma', 'Universitas': 'Universitas Pembangunan Jaya'}\n"
          ]
        }
      ]
    },
    {
      "cell_type": "code",
      "source": [
        "#Inisiasi Set\n",
        "set_01 = {4,5,6,2}\n",
        "print(\"set_01 = \", set_01)\n",
        "\n",
        "#inisiasi mengubah list menjadi set\n",
        "set_02 = set()\n",
        "set_03 = set([2,1,4,3])\n",
        "\n",
        "print(type(set_02))\n",
        "print(\"set_03 = \", set_03)\n",
        "\n",
        "print(\"\\nmenambah\")\n",
        "set_01.add(576)\n",
        "print(set_01)\n",
        "\n",
        "print(\"\\nmenghapus\")\n",
        "set_01.discard(6)\n",
        "print(set_01)\n",
        "\n",
        "print(\"\\nunion\")\n",
        "print(set_01|set_03)\n",
        "print(\"\\nintersection\")\n",
        "print(set_01&set_03)\n",
        "\n",
        "print(\"\\ndifference\")\n",
        "print(set_01-set_03)\n",
        "\n",
        "print(\"\\nsymmetric difference\")\n",
        "print(set_01^set_03)"
      ],
      "metadata": {
        "colab": {
          "base_uri": "https://localhost:8080/"
        },
        "id": "WtLDaPZtoEGM",
        "outputId": "714ff0ca-8f6a-493a-969f-c3ccf6d3c82e"
      },
      "execution_count": 105,
      "outputs": [
        {
          "output_type": "stream",
          "name": "stdout",
          "text": [
            "set_01 =  {2, 4, 5, 6}\n",
            "<class 'set'>\n",
            "set_03 =  {1, 2, 3, 4}\n",
            "\n",
            "menambah\n",
            "{576, 2, 4, 5, 6}\n",
            "\n",
            "menghapus\n",
            "{576, 2, 4, 5}\n",
            "\n",
            "union\n",
            "{576, 1, 2, 3, 4, 5}\n",
            "\n",
            "intersection\n",
            "{2, 4}\n",
            "\n",
            "difference\n",
            "{576, 5}\n",
            "\n",
            "symmetric difference\n",
            "{576, 1, 3, 5}\n"
          ]
        }
      ]
    },
    {
      "cell_type": "code",
      "source": [
        "red = {\"dandelions\", \"leaves\", \"fire hydrant\"}\n",
        "green = {\"rose\", \"blood\", \"leaves\", \"fire hydrant\"}\n",
        "\n",
        "print(red|green)\n",
        "print(red&green)"
      ],
      "metadata": {
        "colab": {
          "base_uri": "https://localhost:8080/"
        },
        "id": "3cm74RAStbAz",
        "outputId": "91135c5e-567d-40a2-c5d4-428671e9f3c4"
      },
      "execution_count": 107,
      "outputs": [
        {
          "output_type": "stream",
          "name": "stdout",
          "text": [
            "{'rose', 'leaves', 'dandelions', 'fire hydrant', 'blood'}\n",
            "{'fire hydrant', 'leaves'}\n"
          ]
        }
      ]
    },
    {
      "cell_type": "code",
      "source": [
        "import numpy as np\n",
        "\n",
        "matrix = np.array([\n",
        "    [100, 200, 300],\n",
        "    [700, 600, 500],\n",
        "    [900, 1000, 800]\n",
        "    ])\n",
        "\n",
        "print(matrix)\n",
        "\n",
        "print(\"\\nTranspose:\")\n",
        "print(matrix.T)"
      ],
      "metadata": {
        "colab": {
          "base_uri": "https://localhost:8080/"
        },
        "id": "k12AfE1FuBFR",
        "outputId": "ef98651c-41ff-4b6b-e060-b8313f423b24"
      },
      "execution_count": 109,
      "outputs": [
        {
          "output_type": "stream",
          "name": "stdout",
          "text": [
            "[[ 100  200  300]\n",
            " [ 700  600  500]\n",
            " [ 900 1000  800]]\n",
            "\n",
            "Transpose:\n",
            "[[ 100  700  900]\n",
            " [ 200  600 1000]\n",
            " [ 300  500  800]]\n"
          ]
        }
      ]
    },
    {
      "cell_type": "code",
      "source": [
        "import pandas as pd\n",
        "\n",
        "df = pd.DataFrame([\n",
        "    [1, \"Informatika\", 50, 30, 20],\n",
        "    [2, \"Sistem Informasi\", 55, 30, 25],\n",
        "    [3, \"Teknik Sipil\", 40, 30, 10]\n",
        "])\n",
        "\n",
        "df.columns = [\"No\", \"Prodi\", \"Mahasiswa\", \"laki-laki\", \"Perempuan\"]\n",
        "df.style.hide(axis='index')"
      ],
      "metadata": {
        "colab": {
          "base_uri": "https://localhost:8080/",
          "height": 112
        },
        "id": "69xthZVuuHpx",
        "outputId": "e055abc6-8e7c-4056-9bc3-6203b19b095b"
      },
      "execution_count": 116,
      "outputs": [
        {
          "output_type": "execute_result",
          "data": {
            "text/plain": [
              "<pandas.io.formats.style.Styler at 0x7edf6c96f190>"
            ],
            "text/html": [
              "<style type=\"text/css\">\n",
              "</style>\n",
              "<table id=\"T_53dba\" class=\"dataframe\">\n",
              "  <thead>\n",
              "    <tr>\n",
              "      <th id=\"T_53dba_level0_col0\" class=\"col_heading level0 col0\" >No</th>\n",
              "      <th id=\"T_53dba_level0_col1\" class=\"col_heading level0 col1\" >Prodi</th>\n",
              "      <th id=\"T_53dba_level0_col2\" class=\"col_heading level0 col2\" >Mahasiswa</th>\n",
              "      <th id=\"T_53dba_level0_col3\" class=\"col_heading level0 col3\" >laki-laki</th>\n",
              "      <th id=\"T_53dba_level0_col4\" class=\"col_heading level0 col4\" >Perempuan</th>\n",
              "    </tr>\n",
              "  </thead>\n",
              "  <tbody>\n",
              "    <tr>\n",
              "      <td id=\"T_53dba_row0_col0\" class=\"data row0 col0\" >1</td>\n",
              "      <td id=\"T_53dba_row0_col1\" class=\"data row0 col1\" >Informatika</td>\n",
              "      <td id=\"T_53dba_row0_col2\" class=\"data row0 col2\" >50</td>\n",
              "      <td id=\"T_53dba_row0_col3\" class=\"data row0 col3\" >30</td>\n",
              "      <td id=\"T_53dba_row0_col4\" class=\"data row0 col4\" >20</td>\n",
              "    </tr>\n",
              "    <tr>\n",
              "      <td id=\"T_53dba_row1_col0\" class=\"data row1 col0\" >2</td>\n",
              "      <td id=\"T_53dba_row1_col1\" class=\"data row1 col1\" >Sistem Informasi</td>\n",
              "      <td id=\"T_53dba_row1_col2\" class=\"data row1 col2\" >55</td>\n",
              "      <td id=\"T_53dba_row1_col3\" class=\"data row1 col3\" >30</td>\n",
              "      <td id=\"T_53dba_row1_col4\" class=\"data row1 col4\" >25</td>\n",
              "    </tr>\n",
              "  </tbody>\n",
              "</table>\n"
            ]
          },
          "metadata": {},
          "execution_count": 116
        }
      ]
    }
  ]
}