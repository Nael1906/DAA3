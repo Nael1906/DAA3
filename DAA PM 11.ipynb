{
  "nbformat": 4,
  "nbformat_minor": 0,
  "metadata": {
    "colab": {
      "provenance": [],
      "authorship_tag": "ABX9TyOkrqBYSvRA7JzD5wM4of38",
      "include_colab_link": true
    },
    "kernelspec": {
      "name": "python3",
      "display_name": "Python 3"
    },
    "language_info": {
      "name": "python"
    }
  },
  "cells": [
    {
      "cell_type": "markdown",
      "metadata": {
        "id": "view-in-github",
        "colab_type": "text"
      },
      "source": [
        "<a href=\"https://colab.research.google.com/github/Nael1906/DAA3/blob/main/DAA%20PM%2011.ipynb\" target=\"_parent\"><img src=\"https://colab.research.google.com/assets/colab-badge.svg\" alt=\"Open In Colab\"/></a>"
      ]
    },
    {
      "cell_type": "code",
      "execution_count": 79,
      "metadata": {
        "colab": {
          "base_uri": "https://localhost:8080/"
        },
        "id": "A5fEKT9-qrgp",
        "outputId": "d8d1eba6-dd3d-487b-8c82-884f2526b7ab"
      },
      "outputs": [
        {
          "output_type": "stream",
          "name": "stdout",
          "text": [
            "{'a': ['b', 'c'], 'b': ['a', 'd'], 'c': ['a', 'd'], 'd': ['e'], 'e': ['d']}\n"
          ]
        }
      ],
      "source": [
        "# a--------b\n",
        "# / -------/\n",
        "# / -------/\n",
        "# c -------d------e\n",
        "\n",
        "#creat the dictionary with graph elements\n",
        "\n",
        "graphn = { \"a\" : [\"b\",\"c\"],\n",
        "          \"b\" : [\"a\", \"d\"],\n",
        "          \"c\" : [\"a\", \"d\"],\n",
        "          \"d\" : [\"e\"],\n",
        "          \"e\" : [\"d\"]\n",
        "          }\n",
        "\n",
        "# print the graph\n",
        "print(graphn)"
      ]
    },
    {
      "cell_type": "code",
      "source": [
        "# Latihan buat graph 1\n",
        "'''\n",
        "T-------U-------V\n",
        "|               |\n",
        "W---------------X\n",
        "|               |\n",
        "Z               S\n",
        "'''\n",
        "\n",
        "graph1 = {  \"T\" : [\"U\", \"W\"],\n",
        "            \"U\" : [\"V\"],\n",
        "            \"V\" : [\"U\", \"X\"],\n",
        "            \"W\" : [\"X\", \"Z\"],\n",
        "            \"X\" : [\"S\", \"W\"],\n",
        "            \"Z\" : [\"W\"],\n",
        "            \"S\" : [\"X\"]\n",
        "        }\n",
        "\n",
        "print(graph1)"
      ],
      "metadata": {
        "colab": {
          "base_uri": "https://localhost:8080/"
        },
        "id": "jyDSdIINr17G",
        "outputId": "bb7be6b8-91b3-47e1-feb3-6017ec3fc69a"
      },
      "execution_count": 80,
      "outputs": [
        {
          "output_type": "stream",
          "name": "stdout",
          "text": [
            "{'T': ['U', 'W'], 'U': ['V'], 'V': ['U', 'X'], 'W': ['X', 'Z'], 'X': ['S', 'W'], 'Z': ['W'], 'S': ['X']}\n"
          ]
        }
      ]
    },
    {
      "cell_type": "code",
      "source": [
        "# Latihan buat graph 2\n",
        "'''\n",
        "r--------o-------m\n",
        "|        |       |\n",
        "i--------p-------n\n",
        "'''\n",
        "\n",
        "graph2 = { \"R\" : [\"O\",\"I\"],\n",
        "           \"O\" : [\"M\",\"P\"],\n",
        "           \"M\" : [\"O\",\"N\"],\n",
        "           \"I\" : [\"R\",\"P\"],\n",
        "           \"P\" : [\"O\",\"N\"],\n",
        "           \"N\" : [\"P\",\"M\"]\n",
        "           }\n",
        "\n",
        "print(graph2)"
      ],
      "metadata": {
        "colab": {
          "base_uri": "https://localhost:8080/"
        },
        "id": "fzLAaALvwPJB",
        "outputId": "6b0b7bb1-1454-4c72-fdc3-92c95cfb3169"
      },
      "execution_count": 81,
      "outputs": [
        {
          "output_type": "stream",
          "name": "stdout",
          "text": [
            "{'R': ['O', 'I'], 'O': ['M', 'P'], 'M': ['O', 'N'], 'I': ['R', 'P'], 'P': ['O', 'N'], 'N': ['P', 'M']}\n"
          ]
        }
      ]
    },
    {
      "cell_type": "code",
      "source": [
        "class Graph:\n",
        "  def __init__(self, gdict=None):\n",
        "    if gdict is None:\n",
        "      gdict = {}\n",
        "    self.gdict = gdict\n",
        "\n",
        "  #get the keys of teh dictionary\n",
        "  def getVertices(self):\n",
        "    return list(self.gdict.keys())\n",
        "\n",
        "#create dictionary with graph elements\n",
        "graph_elements = graphn\n",
        "\n",
        "# create an instance of the Graph class and pass the graph_elements\n",
        "g = Graph(graph_elements)\n",
        "\n",
        "# print rhe vertices by calling the getVertices method with parentheses\n",
        "print(g.getVertices())"
      ],
      "metadata": {
        "colab": {
          "base_uri": "https://localhost:8080/"
        },
        "id": "3jhLZb0-yRda",
        "outputId": "1d141306-1659-4b43-9e38-bc2c2d750014"
      },
      "execution_count": 82,
      "outputs": [
        {
          "output_type": "stream",
          "name": "stdout",
          "text": [
            "['a', 'b', 'c', 'd', 'e']\n"
          ]
        }
      ]
    },
    {
      "cell_type": "code",
      "source": [
        "# Latihan menampilkan elemen dari TUV\n",
        "graph_elements = graph1\n",
        "g = Graph(graph_elements)\n",
        "print(g.getVertices())"
      ],
      "metadata": {
        "colab": {
          "base_uri": "https://localhost:8080/"
        },
        "id": "MCA8Wxez49eY",
        "outputId": "dfea2608-936e-4dfb-c22c-a3a5b6d05c74"
      },
      "execution_count": 83,
      "outputs": [
        {
          "output_type": "stream",
          "name": "stdout",
          "text": [
            "['T', 'U', 'V', 'W', 'X', 'Z', 'S']\n"
          ]
        }
      ]
    },
    {
      "cell_type": "code",
      "source": [
        "# Latihan menampilkan elemen dari ROM\n",
        "graph_elements = graph2\n",
        "g = Graph(graph_elements)\n",
        "print(g.getVertices())"
      ],
      "metadata": {
        "colab": {
          "base_uri": "https://localhost:8080/"
        },
        "id": "fqbjWmEj0tN4",
        "outputId": "61ddabe3-f0dc-4356-c216-f7694d3ca0a8"
      },
      "execution_count": 84,
      "outputs": [
        {
          "output_type": "stream",
          "name": "stdout",
          "text": [
            "['R', 'O', 'M', 'I', 'P', 'N']\n"
          ]
        }
      ]
    },
    {
      "cell_type": "code",
      "source": [
        "class graph:\n",
        "  def __init__(self,gdict=None):\n",
        "    if gdict is None:\n",
        "      gdict = {}\n",
        "    self.gdict = gdict\n",
        "\n",
        "  def edges(self):\n",
        "    return self.findedges()\n",
        "\n",
        "  #find the distinc list of edges\n",
        "  def findedges(self):\n",
        "    edgename = []\n",
        "    for vrtx in self.gdict:\n",
        "      for nxtvrtx in self.gdict[vrtx]:\n",
        "        if {nxtvrtx, vrtx} not in edgename:\n",
        "          edgename.append({vrtx, nxtvrtx})\n",
        "    return edgename\n",
        "# create the dictionary with graph elements\n",
        "graph_elements = graphn\n",
        "\n",
        "g = graph(graphn)\n",
        "print(g.edges())\n"
      ],
      "metadata": {
        "colab": {
          "base_uri": "https://localhost:8080/"
        },
        "id": "DpWNI80b006S",
        "outputId": "bcda52e2-fb25-492c-d12a-df478191ac01"
      },
      "execution_count": 85,
      "outputs": [
        {
          "output_type": "stream",
          "name": "stdout",
          "text": [
            "[{'b', 'a'}, {'c', 'a'}, {'b', 'd'}, {'c', 'd'}, {'e', 'd'}]\n"
          ]
        }
      ]
    },
    {
      "cell_type": "code",
      "source": [
        "#Latihan menampilkan Edges TUV\n",
        "graph_elements = graph1\n",
        "g = graph(graph1)\n",
        "print(g.edges())"
      ],
      "metadata": {
        "colab": {
          "base_uri": "https://localhost:8080/"
        },
        "id": "sRywpo0k2jfl",
        "outputId": "1f9ec56d-aa95-4627-ff1f-dbd2f7da5330"
      },
      "execution_count": 86,
      "outputs": [
        {
          "output_type": "stream",
          "name": "stdout",
          "text": [
            "[{'T', 'U'}, {'T', 'W'}, {'U', 'V'}, {'V', 'X'}, {'W', 'X'}, {'W', 'Z'}, {'X', 'S'}]\n"
          ]
        }
      ]
    },
    {
      "cell_type": "code",
      "source": [
        "#Latihan menampilkan Edges ROM\n",
        "graph_elements = graph2\n",
        "g = graph(graph2)\n",
        "print(g.edges())"
      ],
      "metadata": {
        "colab": {
          "base_uri": "https://localhost:8080/"
        },
        "id": "YQ1WzDao4bhc",
        "outputId": "93c4e2f2-af5a-4fc3-a694-980c3dc3bdef"
      },
      "execution_count": 87,
      "outputs": [
        {
          "output_type": "stream",
          "name": "stdout",
          "text": [
            "[{'O', 'R'}, {'I', 'R'}, {'O', 'M'}, {'O', 'P'}, {'M', 'N'}, {'I', 'P'}, {'P', 'N'}]\n"
          ]
        }
      ]
    },
    {
      "cell_type": "code",
      "source": [
        "class graph:\n",
        "    def __init__(self,gdict = None):\n",
        "      if gdict is None:\n",
        "        gdict = {}\n",
        "      self.gdict = gdict\n",
        "\n",
        "    def getVertices(self):\n",
        "      return list(self.gdict.keys())\n",
        "\n",
        "# add the vertex as a key\n",
        "    def addVertex(self, vrtx):\n",
        "      if vrtx not in self.gdict:\n",
        "        self.gdict[vrtx] = []\n",
        "\n",
        "#Creat the dictionary with graph elements\n",
        "graph_elements = graphn\n",
        "\n",
        "g = graph(graph_elements)\n",
        "g.addVertex(\"f\")\n",
        "print(g.getVertices())"
      ],
      "metadata": {
        "colab": {
          "base_uri": "https://localhost:8080/"
        },
        "id": "e6XhmkI65FPi",
        "outputId": "ef01f038-7aa4-4d18-cd37-ab905b3dc256"
      },
      "execution_count": 88,
      "outputs": [
        {
          "output_type": "stream",
          "name": "stdout",
          "text": [
            "['a', 'b', 'c', 'd', 'e', 'f']\n"
          ]
        }
      ]
    },
    {
      "cell_type": "code",
      "source": [
        "#Latihan menambahkan simpul R pada graph TUV\n",
        "\n",
        "graph_elements = graph1\n",
        "g = graph(graph_elements)\n",
        "g.addVertex(\"R\")\n",
        "print(g.getVertices())"
      ],
      "metadata": {
        "colab": {
          "base_uri": "https://localhost:8080/"
        },
        "id": "rEeQYlmK6XBc",
        "outputId": "c6b128d6-630b-40aa-d388-f5a96ab6c2e4"
      },
      "execution_count": 89,
      "outputs": [
        {
          "output_type": "stream",
          "name": "stdout",
          "text": [
            "['T', 'U', 'V', 'W', 'X', 'Z', 'S', 'R']\n"
          ]
        }
      ]
    },
    {
      "cell_type": "code",
      "source": [
        "#Latihan menambhakan simpul K dan J pada graph ROM\n",
        "\n",
        "graph_elements = graph2\n",
        "g = graph(graph_elements)\n",
        "g.addVertex(\"K\")\n",
        "g.addVertex(\"J\")\n",
        "print(g.getVertices())"
      ],
      "metadata": {
        "colab": {
          "base_uri": "https://localhost:8080/"
        },
        "id": "56NGf-Ds62ha",
        "outputId": "b8736825-0151-4e70-99d2-35f07a61ae04"
      },
      "execution_count": 90,
      "outputs": [
        {
          "output_type": "stream",
          "name": "stdout",
          "text": [
            "['R', 'O', 'M', 'I', 'P', 'N', 'K', 'J']\n"
          ]
        }
      ]
    },
    {
      "cell_type": "code",
      "source": [
        "class graph:\n",
        "  def __init__(self,gdict=None):\n",
        "    if gdict is None:\n",
        "      gdict = {}\n",
        "    self.gdict = gdict\n",
        "\n",
        "  def edges(self):\n",
        "    return self.findedges()\n",
        "\n",
        "#Add the new edges\n",
        "  def AddEdge(self, edge):\n",
        "    edge = set(edge)\n",
        "    (vrtx1, vrtx2) = tuple(edge)\n",
        "    if vrtx1 in self.gdict:\n",
        "      self.gdict[vrtx1].append(vrtx2)\n",
        "    else:\n",
        "      self.gdict[vrtx1] = [vrtx2]\n",
        "# list the edge names\n",
        "  def findedges(self):\n",
        "    edgename = []\n",
        "    for vrtx in self.gdict:\n",
        "      for nxtvrtx in self.gdict[vrtx]:\n",
        "        if {nxtvrtx, vrtx} not in edgename:\n",
        "            edgename.append({vrtx,nxtvrtx})\n",
        "    return edgename\n",
        "\n",
        "graph_elements = graphn\n",
        "g = graph(graph_elements)\n",
        "g.AddEdge({'a','e'})\n",
        "g.AddEdge({'a','c'})\n",
        "print(g.edges())"
      ],
      "metadata": {
        "colab": {
          "base_uri": "https://localhost:8080/"
        },
        "id": "F6dJ4gVl7bt_",
        "outputId": "4689e015-8594-41cb-fab7-39406513e69a"
      },
      "execution_count": 91,
      "outputs": [
        {
          "output_type": "stream",
          "name": "stdout",
          "text": [
            "[{'b', 'a'}, {'c', 'a'}, {'b', 'd'}, {'c', 'd'}, {'e', 'd'}, {'e', 'a'}]\n"
          ]
        }
      ]
    },
    {
      "cell_type": "code",
      "source": [
        "#Latihan menambahkan Variabel ke TUV\n",
        "\n",
        "graph_elements = graph1\n",
        "g = graph(graph_elements)\n",
        "g.AddEdge({'T','Z'})\n",
        "g.AddEdge({'V','S'})\n",
        "print(g.edges())"
      ],
      "metadata": {
        "colab": {
          "base_uri": "https://localhost:8080/"
        },
        "id": "aNa5TUM4_7xy",
        "outputId": "c8312adc-d7ff-4bfe-d1b2-0e214c895ae0"
      },
      "execution_count": 92,
      "outputs": [
        {
          "output_type": "stream",
          "name": "stdout",
          "text": [
            "[{'T', 'U'}, {'T', 'W'}, {'T', 'Z'}, {'U', 'V'}, {'V', 'X'}, {'V', 'S'}, {'W', 'X'}, {'W', 'Z'}, {'X', 'S'}]\n"
          ]
        }
      ]
    },
    {
      "cell_type": "code",
      "source": [
        "#Latihan menambahkan Variabel ke ROM\n",
        "\n",
        "graph_elements = graph2\n",
        "g = graph(graph_elements)\n",
        "g.AddEdge({'R','K'})\n",
        "g.AddEdge({'M','J'})\n",
        "print(g.edges())"
      ],
      "metadata": {
        "colab": {
          "base_uri": "https://localhost:8080/"
        },
        "id": "U8gl1V5RASnv",
        "outputId": "6b50f3c2-125e-4cdb-f109-e7298017b4f1"
      },
      "execution_count": 93,
      "outputs": [
        {
          "output_type": "stream",
          "name": "stdout",
          "text": [
            "[{'O', 'R'}, {'I', 'R'}, {'O', 'M'}, {'O', 'P'}, {'M', 'N'}, {'M', 'J'}, {'I', 'P'}, {'P', 'N'}, {'K', 'R'}]\n"
          ]
        }
      ]
    }
  ]
}