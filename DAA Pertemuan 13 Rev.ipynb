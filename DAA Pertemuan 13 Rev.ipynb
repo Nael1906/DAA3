{
  "nbformat": 4,
  "nbformat_minor": 0,
  "metadata": {
    "colab": {
      "provenance": [],
      "authorship_tag": "ABX9TyOHoKyieHKFzrPEW09ji/of",
      "include_colab_link": true
    },
    "kernelspec": {
      "name": "python3",
      "display_name": "Python 3"
    },
    "language_info": {
      "name": "python"
    }
  },
  "cells": [
    {
      "cell_type": "markdown",
      "metadata": {
        "id": "view-in-github",
        "colab_type": "text"
      },
      "source": [
        "<a href=\"https://colab.research.google.com/github/Nael1906/DAA3/blob/main/DAA%20Pertemuan%2013%20Rev.ipynb\" target=\"_parent\"><img src=\"https://colab.research.google.com/assets/colab-badge.svg\" alt=\"Open In Colab\"/></a>"
      ]
    },
    {
      "cell_type": "code",
      "execution_count": 56,
      "metadata": {
        "id": "C4oqxwSouSQe"
      },
      "outputs": [],
      "source": [
        "def bfs(graph,start):\n",
        "  visited = []\n",
        "  queue = []\n",
        "  queue = [start]\n",
        "  while queue:\n",
        "    node = queue.pop(0)\n",
        "    if node not in visited:\n",
        "      visited.append(node)\n",
        "      neighbours = graph[node]\n",
        "      for neighbours in neighbours:\n",
        "        queue.append(neighbours)\n",
        "  return visited"
      ]
    },
    {
      "cell_type": "code",
      "source": [
        "graph = {'Amin' : ['Wasim','Nick','Mike'],\n",
        "         'Wasim' : ['Imran', 'Amin'],\n",
        "         'Imran' : ['Wasim', 'Faras'],\n",
        "         'Faras' : ['Imran'],\n",
        "         'Mike' : ['Amin'],\n",
        "         'Nick' : ['Amin']}\n",
        "\n",
        "bfs(graph, 'Amin')"
      ],
      "metadata": {
        "colab": {
          "base_uri": "https://localhost:8080/"
        },
        "id": "J6zLjmqIvKFi",
        "outputId": "d84aecc1-bd03-4c96-f25e-de5961053e9c"
      },
      "execution_count": 57,
      "outputs": [
        {
          "output_type": "execute_result",
          "data": {
            "text/plain": [
              "['Amin', 'Wasim', 'Nick', 'Mike', 'Imran', 'Faras']"
            ]
          },
          "metadata": {},
          "execution_count": 57
        }
      ]
    },
    {
      "cell_type": "code",
      "source": [
        "bfs(graph, 'Wasim')"
      ],
      "metadata": {
        "colab": {
          "base_uri": "https://localhost:8080/"
        },
        "id": "x2HMZNnZwvFN",
        "outputId": "3bd95226-37cf-439d-dbda-4c3bd2d8bb03"
      },
      "execution_count": 58,
      "outputs": [
        {
          "output_type": "execute_result",
          "data": {
            "text/plain": [
              "['Wasim', 'Imran', 'Amin', 'Faras', 'Nick', 'Mike']"
            ]
          },
          "metadata": {},
          "execution_count": 58
        }
      ]
    },
    {
      "cell_type": "code",
      "source": [
        "bfs(graph, 'Imran')"
      ],
      "metadata": {
        "colab": {
          "base_uri": "https://localhost:8080/"
        },
        "id": "g0VMjiHBwyC4",
        "outputId": "d550a158-196c-489f-bf2c-ab3637075da0"
      },
      "execution_count": 59,
      "outputs": [
        {
          "output_type": "execute_result",
          "data": {
            "text/plain": [
              "['Imran', 'Wasim', 'Faras', 'Amin', 'Nick', 'Mike']"
            ]
          },
          "metadata": {},
          "execution_count": 59
        }
      ]
    },
    {
      "cell_type": "code",
      "source": [
        "bfs(graph, 'Faras')"
      ],
      "metadata": {
        "colab": {
          "base_uri": "https://localhost:8080/"
        },
        "id": "jyD10J8gw0s2",
        "outputId": "ed83670b-02fe-4bc0-dbd8-fde3fd0b7e93"
      },
      "execution_count": 60,
      "outputs": [
        {
          "output_type": "execute_result",
          "data": {
            "text/plain": [
              "['Faras', 'Imran', 'Wasim', 'Amin', 'Nick', 'Mike']"
            ]
          },
          "metadata": {},
          "execution_count": 60
        }
      ]
    },
    {
      "cell_type": "code",
      "source": [
        "bfs(graph, 'Mike')"
      ],
      "metadata": {
        "colab": {
          "base_uri": "https://localhost:8080/"
        },
        "id": "ZG21uqAVw-3W",
        "outputId": "4bc2bc6f-06f9-40f1-a66a-8cbad5d94630"
      },
      "execution_count": 61,
      "outputs": [
        {
          "output_type": "execute_result",
          "data": {
            "text/plain": [
              "['Mike', 'Amin', 'Wasim', 'Nick', 'Imran', 'Faras']"
            ]
          },
          "metadata": {},
          "execution_count": 61
        }
      ]
    },
    {
      "cell_type": "code",
      "source": [
        "bfs(graph, 'Nick')"
      ],
      "metadata": {
        "colab": {
          "base_uri": "https://localhost:8080/"
        },
        "id": "M5z9cEKaxCsh",
        "outputId": "f3b80818-257d-45e5-a479-4bab15e43c65"
      },
      "execution_count": 62,
      "outputs": [
        {
          "output_type": "execute_result",
          "data": {
            "text/plain": [
              "['Nick', 'Amin', 'Wasim', 'Mike', 'Imran', 'Faras']"
            ]
          },
          "metadata": {},
          "execution_count": 62
        }
      ]
    },
    {
      "cell_type": "code",
      "source": [
        "graphRektor = { 'Rektor' : {'Warek 1', 'Warek 2'},\n",
        "                'Warek 1' : {'Rektor'},\n",
        "                'Warek 2' : {'Rektor', 'Kaprodi 1', 'Kaprodi 2', 'Kaprodi 3'},\n",
        "                'Kaprodi 1' : {'Dosen A', 'Dosen B', 'Dosen C', 'Warek 2'},\n",
        "                'Kaprodi 2' : {'Warek 2', 'Dosen D', 'Dosen E'},\n",
        "                'Kaprodi 3' : {'Warek 2', 'Dosen F', 'Dosen G'},\n",
        "                'Dosen A' : {'Kaprodi 1'},\n",
        "                'Dosen B' : {'Kaprodi 1'},\n",
        "                'Dosen C' : {'Kaprodi 1'},\n",
        "                'Dosen D' : {'Kaprodi 2'},\n",
        "                'Dosen E' : {'Kaprodi 2'},\n",
        "                'Dosen F' : {'Kaprodi 3'},\n",
        "                'Dosen G' : {'Kaprodi 3'}}\n",
        "\n",
        "bfs(graphRektor, 'Rektor')"
      ],
      "metadata": {
        "colab": {
          "base_uri": "https://localhost:8080/"
        },
        "id": "TDkPu1_CxGOx",
        "outputId": "d65ba01e-5a00-49d5-f9f2-d9fe3de6e008"
      },
      "execution_count": 63,
      "outputs": [
        {
          "output_type": "execute_result",
          "data": {
            "text/plain": [
              "['Rektor',\n",
              " 'Warek 1',\n",
              " 'Warek 2',\n",
              " 'Kaprodi 2',\n",
              " 'Kaprodi 3',\n",
              " 'Kaprodi 1',\n",
              " 'Dosen E',\n",
              " 'Dosen D',\n",
              " 'Dosen G',\n",
              " 'Dosen F',\n",
              " 'Dosen A',\n",
              " 'Dosen B',\n",
              " 'Dosen C']"
            ]
          },
          "metadata": {},
          "execution_count": 63
        }
      ]
    },
    {
      "cell_type": "code",
      "source": [
        "bfs(graphRektor, 'Kaprodi 2')"
      ],
      "metadata": {
        "colab": {
          "base_uri": "https://localhost:8080/"
        },
        "id": "ThAE-_g-_ZPI",
        "outputId": "21556b9c-16c1-4ec8-a39e-bd7c587b34c9"
      },
      "execution_count": 64,
      "outputs": [
        {
          "output_type": "execute_result",
          "data": {
            "text/plain": [
              "['Kaprodi 2',\n",
              " 'Warek 2',\n",
              " 'Dosen E',\n",
              " 'Dosen D',\n",
              " 'Rektor',\n",
              " 'Kaprodi 3',\n",
              " 'Kaprodi 1',\n",
              " 'Warek 1',\n",
              " 'Dosen G',\n",
              " 'Dosen F',\n",
              " 'Dosen A',\n",
              " 'Dosen B',\n",
              " 'Dosen C']"
            ]
          },
          "metadata": {},
          "execution_count": 64
        }
      ]
    },
    {
      "cell_type": "code",
      "source": [
        "graphbfs = { '0'  : ['7', '11', '9'],\n",
        "             '9'  : ['8', '10'],\n",
        "            '11'  : ['0', '7'],\n",
        "             '7'  : ['6','3', '11', '0'],\n",
        "             '10' : ['1', '9'],\n",
        "             '8'  : ['12', '1'],\n",
        "             '1'  : ['8', '10'],\n",
        "             '12' : ['2', '8'],\n",
        "             '2'  : ['3', '12'],\n",
        "             '3'  : ['4', '7', '2'],\n",
        "             '6'  : ['5', '7'],\n",
        "             '5'  : ['6'],\n",
        "             '4'  : ['3']}\n",
        "\n"
      ],
      "metadata": {
        "id": "2_-8-6b63A7Y"
      },
      "execution_count": 65,
      "outputs": []
    },
    {
      "cell_type": "code",
      "source": [
        "bfs (graphbfs, '0')"
      ],
      "metadata": {
        "colab": {
          "base_uri": "https://localhost:8080/"
        },
        "id": "5BY1PiMg6vP_",
        "outputId": "76bdfa72-4132-47b8-9018-6d0ee9340aea"
      },
      "execution_count": 66,
      "outputs": [
        {
          "output_type": "execute_result",
          "data": {
            "text/plain": [
              "['0', '7', '11', '9', '6', '3', '8', '10', '5', '4', '2', '12', '1']"
            ]
          },
          "metadata": {},
          "execution_count": 66
        }
      ]
    },
    {
      "cell_type": "code",
      "source": [
        "bfs (graphbfs, '1')"
      ],
      "metadata": {
        "colab": {
          "base_uri": "https://localhost:8080/"
        },
        "id": "6PM05qxX63mL",
        "outputId": "2dbdba50-75d0-4ad3-a444-9172636f354c"
      },
      "execution_count": 67,
      "outputs": [
        {
          "output_type": "execute_result",
          "data": {
            "text/plain": [
              "['1', '8', '10', '12', '9', '2', '3', '4', '7', '6', '11', '0', '5']"
            ]
          },
          "metadata": {},
          "execution_count": 67
        }
      ]
    },
    {
      "cell_type": "code",
      "source": [
        "bfs (graphbfs, '2')"
      ],
      "metadata": {
        "colab": {
          "base_uri": "https://localhost:8080/"
        },
        "id": "suBGbJX3A5vk",
        "outputId": "bebe6511-56cc-454a-eda4-3b7546bbaaf5"
      },
      "execution_count": 68,
      "outputs": [
        {
          "output_type": "execute_result",
          "data": {
            "text/plain": [
              "['2', '3', '12', '4', '7', '8', '6', '11', '0', '1', '5', '9', '10']"
            ]
          },
          "metadata": {},
          "execution_count": 68
        }
      ]
    },
    {
      "cell_type": "code",
      "source": [
        "bfs (graphbfs, '3')"
      ],
      "metadata": {
        "colab": {
          "base_uri": "https://localhost:8080/"
        },
        "id": "hPO2G3ybA7Q3",
        "outputId": "3b64dbf2-7061-468b-b277-2913e5a51414"
      },
      "execution_count": 69,
      "outputs": [
        {
          "output_type": "execute_result",
          "data": {
            "text/plain": [
              "['3', '4', '7', '2', '6', '11', '0', '12', '5', '9', '8', '10', '1']"
            ]
          },
          "metadata": {},
          "execution_count": 69
        }
      ]
    },
    {
      "cell_type": "code",
      "source": [
        "bfs (graphbfs, '4')"
      ],
      "metadata": {
        "colab": {
          "base_uri": "https://localhost:8080/"
        },
        "id": "kLl0xAsEA8F2",
        "outputId": "693a5904-57f6-4d5d-f85f-f19589a4a1f5"
      },
      "execution_count": 70,
      "outputs": [
        {
          "output_type": "execute_result",
          "data": {
            "text/plain": [
              "['4', '3', '7', '2', '6', '11', '0', '12', '5', '9', '8', '10', '1']"
            ]
          },
          "metadata": {},
          "execution_count": 70
        }
      ]
    },
    {
      "cell_type": "code",
      "source": [
        "bfs (graphbfs, '5')"
      ],
      "metadata": {
        "colab": {
          "base_uri": "https://localhost:8080/"
        },
        "id": "tIxA2hsbA9Mi",
        "outputId": "58519720-9a78-4084-d4d2-507e0f387398"
      },
      "execution_count": 71,
      "outputs": [
        {
          "output_type": "execute_result",
          "data": {
            "text/plain": [
              "['5', '6', '7', '3', '11', '0', '4', '2', '9', '12', '8', '10', '1']"
            ]
          },
          "metadata": {},
          "execution_count": 71
        }
      ]
    },
    {
      "cell_type": "code",
      "source": [
        "bfs (graphbfs, '6')"
      ],
      "metadata": {
        "colab": {
          "base_uri": "https://localhost:8080/"
        },
        "id": "pej7vQ1aA-cV",
        "outputId": "425e8995-cfae-47a1-bb3a-88de1e3586f8"
      },
      "execution_count": 72,
      "outputs": [
        {
          "output_type": "execute_result",
          "data": {
            "text/plain": [
              "['6', '5', '7', '3', '11', '0', '4', '2', '9', '12', '8', '10', '1']"
            ]
          },
          "metadata": {},
          "execution_count": 72
        }
      ]
    },
    {
      "cell_type": "code",
      "source": [
        "bfs (graphbfs, '7')"
      ],
      "metadata": {
        "colab": {
          "base_uri": "https://localhost:8080/"
        },
        "id": "DGpZ5DKAA_VM",
        "outputId": "5663067c-9452-40d1-d90e-86f88259cb87"
      },
      "execution_count": 73,
      "outputs": [
        {
          "output_type": "execute_result",
          "data": {
            "text/plain": [
              "['7', '6', '3', '11', '0', '5', '4', '2', '9', '12', '8', '10', '1']"
            ]
          },
          "metadata": {},
          "execution_count": 73
        }
      ]
    },
    {
      "cell_type": "code",
      "source": [
        "bfs (graphbfs, '8')"
      ],
      "metadata": {
        "colab": {
          "base_uri": "https://localhost:8080/"
        },
        "id": "ndqbly1jBAJ3",
        "outputId": "fee95043-0599-410a-8b6b-bb812039ffd6"
      },
      "execution_count": 74,
      "outputs": [
        {
          "output_type": "execute_result",
          "data": {
            "text/plain": [
              "['8', '12', '1', '2', '10', '3', '9', '4', '7', '6', '11', '0', '5']"
            ]
          },
          "metadata": {},
          "execution_count": 74
        }
      ]
    },
    {
      "cell_type": "code",
      "source": [
        "bfs (graphbfs, '9')"
      ],
      "metadata": {
        "colab": {
          "base_uri": "https://localhost:8080/"
        },
        "id": "4qaRZDBMBBIT",
        "outputId": "e8ecab75-e799-442c-91dd-4b8f0c6f6236"
      },
      "execution_count": 75,
      "outputs": [
        {
          "output_type": "execute_result",
          "data": {
            "text/plain": [
              "['9', '8', '10', '12', '1', '2', '3', '4', '7', '6', '11', '0', '5']"
            ]
          },
          "metadata": {},
          "execution_count": 75
        }
      ]
    },
    {
      "cell_type": "code",
      "source": [
        "bfs (graphbfs, '10')"
      ],
      "metadata": {
        "colab": {
          "base_uri": "https://localhost:8080/"
        },
        "id": "sIX2ZKH0BCSD",
        "outputId": "16f45d44-20bf-47ad-ee6e-2cc9d110fd9f"
      },
      "execution_count": 76,
      "outputs": [
        {
          "output_type": "execute_result",
          "data": {
            "text/plain": [
              "['10', '1', '9', '8', '12', '2', '3', '4', '7', '6', '11', '0', '5']"
            ]
          },
          "metadata": {},
          "execution_count": 76
        }
      ]
    },
    {
      "cell_type": "code",
      "source": [
        "bfs (graphbfs, '11')"
      ],
      "metadata": {
        "colab": {
          "base_uri": "https://localhost:8080/"
        },
        "id": "RIHbM50FBDS1",
        "outputId": "48155f58-b7ae-4a3a-941e-a6a4dc095935"
      },
      "execution_count": 77,
      "outputs": [
        {
          "output_type": "execute_result",
          "data": {
            "text/plain": [
              "['11', '0', '7', '9', '6', '3', '8', '10', '5', '4', '2', '12', '1']"
            ]
          },
          "metadata": {},
          "execution_count": 77
        }
      ]
    },
    {
      "cell_type": "code",
      "source": [
        "bfs (graphbfs, '12')"
      ],
      "metadata": {
        "colab": {
          "base_uri": "https://localhost:8080/"
        },
        "id": "H5dxa6ueBGUp",
        "outputId": "1092832a-ada3-4d47-859f-e12fb01d9b33"
      },
      "execution_count": 78,
      "outputs": [
        {
          "output_type": "execute_result",
          "data": {
            "text/plain": [
              "['12', '2', '8', '3', '1', '4', '7', '10', '6', '11', '0', '9', '5']"
            ]
          },
          "metadata": {},
          "execution_count": 78
        }
      ]
    },
    {
      "cell_type": "code",
      "source": [
        "def dfs(visited, graph, node):\n",
        "    if node not in visited:\n",
        "        print(node)\n",
        "        visited.add(node)\n",
        "        for neighbour in graph[node]:\n",
        "            dfs(visited, graph, neighbour)"
      ],
      "metadata": {
        "id": "PKVFeRw3K_hN"
      },
      "execution_count": 79,
      "outputs": []
    },
    {
      "cell_type": "code",
      "source": [
        "visited = set()\n",
        "dfs(visited, graph, 'Amin')"
      ],
      "metadata": {
        "colab": {
          "base_uri": "https://localhost:8080/"
        },
        "id": "gGVysC7JUlYr",
        "outputId": "cde075c1-844e-48c5-b8e7-8a43c74abe99"
      },
      "execution_count": 80,
      "outputs": [
        {
          "output_type": "stream",
          "name": "stdout",
          "text": [
            "Amin\n",
            "Wasim\n",
            "Imran\n",
            "Faras\n",
            "Nick\n",
            "Mike\n"
          ]
        }
      ]
    },
    {
      "cell_type": "code",
      "source": [
        "visited = set()\n",
        "dfs(visited, graphRektor, 'Rektor')"
      ],
      "metadata": {
        "colab": {
          "base_uri": "https://localhost:8080/"
        },
        "id": "xKlUZtPJUmfG",
        "outputId": "222d5563-7331-487b-8f23-e0c5ff4ca3f3"
      },
      "execution_count": 81,
      "outputs": [
        {
          "output_type": "stream",
          "name": "stdout",
          "text": [
            "Rektor\n",
            "Warek 1\n",
            "Warek 2\n",
            "Kaprodi 2\n",
            "Dosen E\n",
            "Dosen D\n",
            "Kaprodi 3\n",
            "Dosen G\n",
            "Dosen F\n",
            "Kaprodi 1\n",
            "Dosen A\n",
            "Dosen B\n",
            "Dosen C\n"
          ]
        }
      ]
    },
    {
      "cell_type": "code",
      "source": [],
      "metadata": {
        "id": "r6FwFdwZUo_-"
      },
      "execution_count": null,
      "outputs": []
    }
  ]
}